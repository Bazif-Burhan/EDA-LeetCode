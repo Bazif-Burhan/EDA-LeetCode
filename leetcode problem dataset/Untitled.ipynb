{
 "cells": [
  {
   "cell_type": "code",
   "execution_count": 1,
   "id": "716526d1",
   "metadata": {},
   "outputs": [],
   "source": [
    "import pandas as pd\n",
    "import numpy as np\n",
    "import matplotlib.pyplot as plt\n",
    "import seaborn as sns"
   ]
  },
  {
   "cell_type": "code",
   "execution_count": 92,
   "id": "3097fa78",
   "metadata": {},
   "outputs": [
    {
     "data": {
      "text/html": [
       "<div>\n",
       "<style scoped>\n",
       "    .dataframe tbody tr th:only-of-type {\n",
       "        vertical-align: middle;\n",
       "    }\n",
       "\n",
       "    .dataframe tbody tr th {\n",
       "        vertical-align: top;\n",
       "    }\n",
       "\n",
       "    .dataframe thead th {\n",
       "        text-align: right;\n",
       "    }\n",
       "</style>\n",
       "<table border=\"1\" class=\"dataframe\">\n",
       "  <thead>\n",
       "    <tr style=\"text-align: right;\">\n",
       "      <th></th>\n",
       "      <th>id</th>\n",
       "      <th>title</th>\n",
       "      <th>description</th>\n",
       "      <th>is_premium</th>\n",
       "      <th>difficulty</th>\n",
       "      <th>solution_link</th>\n",
       "      <th>acceptance_rate</th>\n",
       "      <th>frequency</th>\n",
       "      <th>url</th>\n",
       "      <th>discuss_count</th>\n",
       "      <th>accepted</th>\n",
       "      <th>submissions</th>\n",
       "      <th>companies</th>\n",
       "      <th>related_topics</th>\n",
       "      <th>likes</th>\n",
       "      <th>dislikes</th>\n",
       "      <th>rating</th>\n",
       "      <th>asked_by_faang</th>\n",
       "      <th>similar_questions</th>\n",
       "    </tr>\n",
       "  </thead>\n",
       "  <tbody>\n",
       "    <tr>\n",
       "      <th>0</th>\n",
       "      <td>1</td>\n",
       "      <td>Two Sum</td>\n",
       "      <td>Given an array of integers `nums` and an integ...</td>\n",
       "      <td>0</td>\n",
       "      <td>Easy</td>\n",
       "      <td>/articles/two-sum</td>\n",
       "      <td>46.7</td>\n",
       "      <td>100.0</td>\n",
       "      <td>https://leetcode.com/problems/two-sum</td>\n",
       "      <td>999</td>\n",
       "      <td>4.1M</td>\n",
       "      <td>8.7M</td>\n",
       "      <td>Amazon,Google,Apple,Adobe,Microsoft,Bloomberg,...</td>\n",
       "      <td>Array,Hash Table</td>\n",
       "      <td>20217</td>\n",
       "      <td>712</td>\n",
       "      <td>97</td>\n",
       "      <td>1</td>\n",
       "      <td>[3Sum, /problems/3sum/, Medium], [4Sum, /probl...</td>\n",
       "    </tr>\n",
       "    <tr>\n",
       "      <th>1</th>\n",
       "      <td>2</td>\n",
       "      <td>Add Two Numbers</td>\n",
       "      <td>You are given two non-empty linked lists repre...</td>\n",
       "      <td>0</td>\n",
       "      <td>Medium</td>\n",
       "      <td>/articles/add-two-numbers</td>\n",
       "      <td>35.7</td>\n",
       "      <td>93.1</td>\n",
       "      <td>https://leetcode.com/problems/add-two-numbers</td>\n",
       "      <td>999</td>\n",
       "      <td>1.9M</td>\n",
       "      <td>5.2M</td>\n",
       "      <td>Bloomberg,Microsoft,Amazon,Google,Facebook,App...</td>\n",
       "      <td>Linked List,Math,Recursion</td>\n",
       "      <td>11350</td>\n",
       "      <td>2704</td>\n",
       "      <td>81</td>\n",
       "      <td>1</td>\n",
       "      <td>[Multiply Strings, /problems/multiply-strings/...</td>\n",
       "    </tr>\n",
       "    <tr>\n",
       "      <th>2</th>\n",
       "      <td>3</td>\n",
       "      <td>Longest Substring Without Repeating Characters</td>\n",
       "      <td>Given a string `s`, find the length of the lon...</td>\n",
       "      <td>0</td>\n",
       "      <td>Medium</td>\n",
       "      <td>/articles/longest-substring-without-repeating-...</td>\n",
       "      <td>31.5</td>\n",
       "      <td>90.9</td>\n",
       "      <td>https://leetcode.com/problems/longest-substrin...</td>\n",
       "      <td>999</td>\n",
       "      <td>2.1M</td>\n",
       "      <td>6.7M</td>\n",
       "      <td>Amazon,Bloomberg,Microsoft,Facebook,Apple,Adob...</td>\n",
       "      <td>Hash Table,Two Pointers,String,Sliding Window</td>\n",
       "      <td>13810</td>\n",
       "      <td>714</td>\n",
       "      <td>95</td>\n",
       "      <td>1</td>\n",
       "      <td>[Longest Substring with At Most Two Distinct C...</td>\n",
       "    </tr>\n",
       "    <tr>\n",
       "      <th>3</th>\n",
       "      <td>4</td>\n",
       "      <td>Median of Two Sorted Arrays</td>\n",
       "      <td>Given two sorted arrays `nums1` and `nums2` of...</td>\n",
       "      <td>0</td>\n",
       "      <td>Hard</td>\n",
       "      <td>/articles/median-of-two-sorted-arrays</td>\n",
       "      <td>31.4</td>\n",
       "      <td>86.2</td>\n",
       "      <td>https://leetcode.com/problems/median-of-two-so...</td>\n",
       "      <td>999</td>\n",
       "      <td>904.7K</td>\n",
       "      <td>2.9M</td>\n",
       "      <td>Amazon,Goldman Sachs,Facebook,Microsoft,Apple,...</td>\n",
       "      <td>Array,Binary Search,Divide and Conquer</td>\n",
       "      <td>9665</td>\n",
       "      <td>1486</td>\n",
       "      <td>87</td>\n",
       "      <td>1</td>\n",
       "      <td>NaN</td>\n",
       "    </tr>\n",
       "    <tr>\n",
       "      <th>4</th>\n",
       "      <td>5</td>\n",
       "      <td>Longest Palindromic Substring</td>\n",
       "      <td>Given a string `s`, return the longest palindr...</td>\n",
       "      <td>0</td>\n",
       "      <td>Medium</td>\n",
       "      <td>/articles/longest-palindromic-substring</td>\n",
       "      <td>30.6</td>\n",
       "      <td>84.7</td>\n",
       "      <td>https://leetcode.com/problems/longest-palindro...</td>\n",
       "      <td>999</td>\n",
       "      <td>1.3M</td>\n",
       "      <td>4.1M</td>\n",
       "      <td>Amazon,Microsoft,Wayfair,Facebook,Adobe,eBay,G...</td>\n",
       "      <td>String,Dynamic Programming</td>\n",
       "      <td>10271</td>\n",
       "      <td>670</td>\n",
       "      <td>94</td>\n",
       "      <td>1</td>\n",
       "      <td>[Shortest Palindrome, /problems/shortest-palin...</td>\n",
       "    </tr>\n",
       "  </tbody>\n",
       "</table>\n",
       "</div>"
      ],
      "text/plain": [
       "   id                                           title  \\\n",
       "0   1                                         Two Sum   \n",
       "1   2                                 Add Two Numbers   \n",
       "2   3  Longest Substring Without Repeating Characters   \n",
       "3   4                     Median of Two Sorted Arrays   \n",
       "4   5                   Longest Palindromic Substring   \n",
       "\n",
       "                                         description  is_premium difficulty  \\\n",
       "0  Given an array of integers `nums` and an integ...           0       Easy   \n",
       "1  You are given two non-empty linked lists repre...           0     Medium   \n",
       "2  Given a string `s`, find the length of the lon...           0     Medium   \n",
       "3  Given two sorted arrays `nums1` and `nums2` of...           0       Hard   \n",
       "4  Given a string `s`, return the longest palindr...           0     Medium   \n",
       "\n",
       "                                       solution_link  acceptance_rate  \\\n",
       "0                                  /articles/two-sum             46.7   \n",
       "1                          /articles/add-two-numbers             35.7   \n",
       "2  /articles/longest-substring-without-repeating-...             31.5   \n",
       "3              /articles/median-of-two-sorted-arrays             31.4   \n",
       "4            /articles/longest-palindromic-substring             30.6   \n",
       "\n",
       "   frequency                                                url  \\\n",
       "0      100.0              https://leetcode.com/problems/two-sum   \n",
       "1       93.1      https://leetcode.com/problems/add-two-numbers   \n",
       "2       90.9  https://leetcode.com/problems/longest-substrin...   \n",
       "3       86.2  https://leetcode.com/problems/median-of-two-so...   \n",
       "4       84.7  https://leetcode.com/problems/longest-palindro...   \n",
       "\n",
       "   discuss_count accepted submissions  \\\n",
       "0            999     4.1M        8.7M   \n",
       "1            999     1.9M        5.2M   \n",
       "2            999     2.1M        6.7M   \n",
       "3            999   904.7K        2.9M   \n",
       "4            999     1.3M        4.1M   \n",
       "\n",
       "                                           companies  \\\n",
       "0  Amazon,Google,Apple,Adobe,Microsoft,Bloomberg,...   \n",
       "1  Bloomberg,Microsoft,Amazon,Google,Facebook,App...   \n",
       "2  Amazon,Bloomberg,Microsoft,Facebook,Apple,Adob...   \n",
       "3  Amazon,Goldman Sachs,Facebook,Microsoft,Apple,...   \n",
       "4  Amazon,Microsoft,Wayfair,Facebook,Adobe,eBay,G...   \n",
       "\n",
       "                                  related_topics  likes  dislikes  rating  \\\n",
       "0                               Array,Hash Table  20217       712      97   \n",
       "1                     Linked List,Math,Recursion  11350      2704      81   \n",
       "2  Hash Table,Two Pointers,String,Sliding Window  13810       714      95   \n",
       "3         Array,Binary Search,Divide and Conquer   9665      1486      87   \n",
       "4                     String,Dynamic Programming  10271       670      94   \n",
       "\n",
       "   asked_by_faang                                  similar_questions  \n",
       "0               1  [3Sum, /problems/3sum/, Medium], [4Sum, /probl...  \n",
       "1               1  [Multiply Strings, /problems/multiply-strings/...  \n",
       "2               1  [Longest Substring with At Most Two Distinct C...  \n",
       "3               1                                                NaN  \n",
       "4               1  [Shortest Palindrome, /problems/shortest-palin...  "
      ]
     },
     "execution_count": 92,
     "metadata": {},
     "output_type": "execute_result"
    }
   ],
   "source": [
    "df=pd.read_csv('leetcode_dataset - lc.csv')\n",
    "pd.set_option('display.max_columns',None)\n",
    "df.head()"
   ]
  },
  {
   "cell_type": "code",
   "execution_count": 93,
   "id": "35e13acf",
   "metadata": {},
   "outputs": [
    {
     "name": "stdout",
     "output_type": "stream",
     "text": [
      "<class 'pandas.core.frame.DataFrame'>\n",
      "RangeIndex: 1825 entries, 0 to 1824\n",
      "Data columns (total 19 columns):\n",
      " #   Column             Non-Null Count  Dtype  \n",
      "---  ------             --------------  -----  \n",
      " 0   id                 1825 non-null   int64  \n",
      " 1   title              1825 non-null   object \n",
      " 2   description        1825 non-null   object \n",
      " 3   is_premium         1825 non-null   int64  \n",
      " 4   difficulty         1825 non-null   object \n",
      " 5   solution_link      987 non-null    object \n",
      " 6   acceptance_rate    1825 non-null   float64\n",
      " 7   frequency          1825 non-null   float64\n",
      " 8   url                1825 non-null   object \n",
      " 9   discuss_count      1825 non-null   int64  \n",
      " 10  accepted           1825 non-null   object \n",
      " 11  submissions        1825 non-null   object \n",
      " 12  companies          1749 non-null   object \n",
      " 13  related_topics     1571 non-null   object \n",
      " 14  likes              1825 non-null   int64  \n",
      " 15  dislikes           1825 non-null   int64  \n",
      " 16  rating             1825 non-null   int64  \n",
      " 17  asked_by_faang     1825 non-null   int64  \n",
      " 18  similar_questions  745 non-null    object \n",
      "dtypes: float64(2), int64(7), object(10)\n",
      "memory usage: 271.0+ KB\n"
     ]
    }
   ],
   "source": [
    "df.info()"
   ]
  },
  {
   "cell_type": "markdown",
   "id": "3baa0bea",
   "metadata": {},
   "source": [
    "# Data Cleaning"
   ]
  },
  {
   "cell_type": "code",
   "execution_count": 94,
   "id": "60a5e125",
   "metadata": {},
   "outputs": [
    {
     "data": {
      "text/html": [
       "<div>\n",
       "<style scoped>\n",
       "    .dataframe tbody tr th:only-of-type {\n",
       "        vertical-align: middle;\n",
       "    }\n",
       "\n",
       "    .dataframe tbody tr th {\n",
       "        vertical-align: top;\n",
       "    }\n",
       "\n",
       "    .dataframe thead th {\n",
       "        text-align: right;\n",
       "    }\n",
       "</style>\n",
       "<table border=\"1\" class=\"dataframe\">\n",
       "  <thead>\n",
       "    <tr style=\"text-align: right;\">\n",
       "      <th></th>\n",
       "      <th>title</th>\n",
       "      <th>description</th>\n",
       "      <th>is_premium</th>\n",
       "      <th>difficulty</th>\n",
       "      <th>acceptance_rate</th>\n",
       "      <th>frequency</th>\n",
       "      <th>discuss_count</th>\n",
       "      <th>accepted</th>\n",
       "      <th>submissions</th>\n",
       "      <th>companies</th>\n",
       "      <th>related_topics</th>\n",
       "      <th>likes</th>\n",
       "      <th>dislikes</th>\n",
       "      <th>rating</th>\n",
       "      <th>asked_by_faang</th>\n",
       "      <th>similar_questions</th>\n",
       "    </tr>\n",
       "  </thead>\n",
       "  <tbody>\n",
       "    <tr>\n",
       "      <th>0</th>\n",
       "      <td>Two Sum</td>\n",
       "      <td>Given an array of integers `nums` and an integ...</td>\n",
       "      <td>0</td>\n",
       "      <td>Easy</td>\n",
       "      <td>46.7</td>\n",
       "      <td>100.0</td>\n",
       "      <td>999</td>\n",
       "      <td>4.1M</td>\n",
       "      <td>8.7M</td>\n",
       "      <td>Amazon,Google,Apple,Adobe,Microsoft,Bloomberg,...</td>\n",
       "      <td>Array,Hash Table</td>\n",
       "      <td>20217</td>\n",
       "      <td>712</td>\n",
       "      <td>97</td>\n",
       "      <td>1</td>\n",
       "      <td>[3Sum, /problems/3sum/, Medium], [4Sum, /probl...</td>\n",
       "    </tr>\n",
       "    <tr>\n",
       "      <th>1</th>\n",
       "      <td>Add Two Numbers</td>\n",
       "      <td>You are given two non-empty linked lists repre...</td>\n",
       "      <td>0</td>\n",
       "      <td>Medium</td>\n",
       "      <td>35.7</td>\n",
       "      <td>93.1</td>\n",
       "      <td>999</td>\n",
       "      <td>1.9M</td>\n",
       "      <td>5.2M</td>\n",
       "      <td>Bloomberg,Microsoft,Amazon,Google,Facebook,App...</td>\n",
       "      <td>Linked List,Math,Recursion</td>\n",
       "      <td>11350</td>\n",
       "      <td>2704</td>\n",
       "      <td>81</td>\n",
       "      <td>1</td>\n",
       "      <td>[Multiply Strings, /problems/multiply-strings/...</td>\n",
       "    </tr>\n",
       "    <tr>\n",
       "      <th>2</th>\n",
       "      <td>Longest Substring Without Repeating Characters</td>\n",
       "      <td>Given a string `s`, find the length of the lon...</td>\n",
       "      <td>0</td>\n",
       "      <td>Medium</td>\n",
       "      <td>31.5</td>\n",
       "      <td>90.9</td>\n",
       "      <td>999</td>\n",
       "      <td>2.1M</td>\n",
       "      <td>6.7M</td>\n",
       "      <td>Amazon,Bloomberg,Microsoft,Facebook,Apple,Adob...</td>\n",
       "      <td>Hash Table,Two Pointers,String,Sliding Window</td>\n",
       "      <td>13810</td>\n",
       "      <td>714</td>\n",
       "      <td>95</td>\n",
       "      <td>1</td>\n",
       "      <td>[Longest Substring with At Most Two Distinct C...</td>\n",
       "    </tr>\n",
       "    <tr>\n",
       "      <th>3</th>\n",
       "      <td>Median of Two Sorted Arrays</td>\n",
       "      <td>Given two sorted arrays `nums1` and `nums2` of...</td>\n",
       "      <td>0</td>\n",
       "      <td>Hard</td>\n",
       "      <td>31.4</td>\n",
       "      <td>86.2</td>\n",
       "      <td>999</td>\n",
       "      <td>904.7K</td>\n",
       "      <td>2.9M</td>\n",
       "      <td>Amazon,Goldman Sachs,Facebook,Microsoft,Apple,...</td>\n",
       "      <td>Array,Binary Search,Divide and Conquer</td>\n",
       "      <td>9665</td>\n",
       "      <td>1486</td>\n",
       "      <td>87</td>\n",
       "      <td>1</td>\n",
       "      <td>NaN</td>\n",
       "    </tr>\n",
       "    <tr>\n",
       "      <th>4</th>\n",
       "      <td>Longest Palindromic Substring</td>\n",
       "      <td>Given a string `s`, return the longest palindr...</td>\n",
       "      <td>0</td>\n",
       "      <td>Medium</td>\n",
       "      <td>30.6</td>\n",
       "      <td>84.7</td>\n",
       "      <td>999</td>\n",
       "      <td>1.3M</td>\n",
       "      <td>4.1M</td>\n",
       "      <td>Amazon,Microsoft,Wayfair,Facebook,Adobe,eBay,G...</td>\n",
       "      <td>String,Dynamic Programming</td>\n",
       "      <td>10271</td>\n",
       "      <td>670</td>\n",
       "      <td>94</td>\n",
       "      <td>1</td>\n",
       "      <td>[Shortest Palindrome, /problems/shortest-palin...</td>\n",
       "    </tr>\n",
       "  </tbody>\n",
       "</table>\n",
       "</div>"
      ],
      "text/plain": [
       "                                            title  \\\n",
       "0                                         Two Sum   \n",
       "1                                 Add Two Numbers   \n",
       "2  Longest Substring Without Repeating Characters   \n",
       "3                     Median of Two Sorted Arrays   \n",
       "4                   Longest Palindromic Substring   \n",
       "\n",
       "                                         description  is_premium difficulty  \\\n",
       "0  Given an array of integers `nums` and an integ...           0       Easy   \n",
       "1  You are given two non-empty linked lists repre...           0     Medium   \n",
       "2  Given a string `s`, find the length of the lon...           0     Medium   \n",
       "3  Given two sorted arrays `nums1` and `nums2` of...           0       Hard   \n",
       "4  Given a string `s`, return the longest palindr...           0     Medium   \n",
       "\n",
       "   acceptance_rate  frequency  discuss_count accepted submissions  \\\n",
       "0             46.7      100.0            999     4.1M        8.7M   \n",
       "1             35.7       93.1            999     1.9M        5.2M   \n",
       "2             31.5       90.9            999     2.1M        6.7M   \n",
       "3             31.4       86.2            999   904.7K        2.9M   \n",
       "4             30.6       84.7            999     1.3M        4.1M   \n",
       "\n",
       "                                           companies  \\\n",
       "0  Amazon,Google,Apple,Adobe,Microsoft,Bloomberg,...   \n",
       "1  Bloomberg,Microsoft,Amazon,Google,Facebook,App...   \n",
       "2  Amazon,Bloomberg,Microsoft,Facebook,Apple,Adob...   \n",
       "3  Amazon,Goldman Sachs,Facebook,Microsoft,Apple,...   \n",
       "4  Amazon,Microsoft,Wayfair,Facebook,Adobe,eBay,G...   \n",
       "\n",
       "                                  related_topics  likes  dislikes  rating  \\\n",
       "0                               Array,Hash Table  20217       712      97   \n",
       "1                     Linked List,Math,Recursion  11350      2704      81   \n",
       "2  Hash Table,Two Pointers,String,Sliding Window  13810       714      95   \n",
       "3         Array,Binary Search,Divide and Conquer   9665      1486      87   \n",
       "4                     String,Dynamic Programming  10271       670      94   \n",
       "\n",
       "   asked_by_faang                                  similar_questions  \n",
       "0               1  [3Sum, /problems/3sum/, Medium], [4Sum, /probl...  \n",
       "1               1  [Multiply Strings, /problems/multiply-strings/...  \n",
       "2               1  [Longest Substring with At Most Two Distinct C...  \n",
       "3               1                                                NaN  \n",
       "4               1  [Shortest Palindrome, /problems/shortest-palin...  "
      ]
     },
     "execution_count": 94,
     "metadata": {},
     "output_type": "execute_result"
    }
   ],
   "source": [
    "# Drop 'id','url' and solution_link\n",
    "df.drop(['id','url','solution_link'],axis=1,inplace=True)\n",
    "df.head()"
   ]
  },
  {
   "cell_type": "code",
   "execution_count": 110,
   "id": "23d3c232",
   "metadata": {},
   "outputs": [
    {
     "data": {
      "text/plain": [
       "0       Amazon,Google,Apple,Adobe,Microsoft,Bloomberg,...\n",
       "1       Bloomberg,Microsoft,Amazon,Google,Facebook,App...\n",
       "2       Amazon,Bloomberg,Microsoft,Facebook,Apple,Adob...\n",
       "3       Amazon,Goldman Sachs,Facebook,Microsoft,Apple,...\n",
       "4       Amazon,Microsoft,Wayfair,Facebook,Adobe,eBay,G...\n",
       "                              ...                        \n",
       "1820                                               Google\n",
       "1821                                            Microsoft\n",
       "1822                                            Bloomberg\n",
       "1823                                              Pony.ai\n",
       "1824                                               Google\n",
       "Name: companies, Length: 1825, dtype: object"
      ]
     },
     "execution_count": 110,
     "metadata": {},
     "output_type": "execute_result"
    }
   ],
   "source": [
    "# Replacing the missing values\n",
    "df['companies']=df['companies'].fillna('0')\n",
    "df['companies']"
   ]
  },
  {
   "cell_type": "code",
   "execution_count": 109,
   "id": "ef58d19c",
   "metadata": {},
   "outputs": [
    {
     "data": {
      "text/plain": [
       "0                                    Array,Hash Table\n",
       "1                          Linked List,Math,Recursion\n",
       "2       Hash Table,Two Pointers,String,Sliding Window\n",
       "3              Array,Binary Search,Divide and Conquer\n",
       "4                          String,Dynamic Programming\n",
       "                            ...                      \n",
       "1820                                                0\n",
       "1821                                             Math\n",
       "1822                                            Array\n",
       "1823         Dynamic Programming,Breadth-first Search\n",
       "1824                                Heap,Design,Queue\n",
       "Name: related_topics, Length: 1825, dtype: object"
      ]
     },
     "execution_count": 109,
     "metadata": {},
     "output_type": "execute_result"
    }
   ],
   "source": [
    "# Replacing the missing values\n",
    "df['related_topics']=df['related_topics'].fillna('0')\n",
    "df['related_topics']"
   ]
  },
  {
   "cell_type": "markdown",
   "id": "01fdf113",
   "metadata": {},
   "source": [
    "# EDA"
   ]
  },
  {
   "cell_type": "markdown",
   "id": "1edfd9a7",
   "metadata": {},
   "source": [
    "# How many premium questions?"
   ]
  },
  {
   "cell_type": "code",
   "execution_count": 95,
   "id": "4a755566",
   "metadata": {},
   "outputs": [
    {
     "name": "stdout",
     "output_type": "stream",
     "text": [
      "Number of Premium questions:398\n",
      "Proportion of Premium questions:0.2\n"
     ]
    }
   ],
   "source": [
    "print('Number of Premium questions:{}'.format(df['is_premium'].sum()))\n",
    "print('Proportion of Premium questions:{}'.format(round(df['is_premium'].sum()/df.shape[0],1)))"
   ]
  },
  {
   "cell_type": "code",
   "execution_count": 96,
   "id": "4f939d9c",
   "metadata": {},
   "outputs": [
    {
     "data": {
      "text/plain": [
       "0       0\n",
       "1       0\n",
       "2       0\n",
       "3       0\n",
       "4       0\n",
       "       ..\n",
       "1820    1\n",
       "1821    0\n",
       "1822    0\n",
       "1823    0\n",
       "1824    0\n",
       "Name: premium, Length: 1825, dtype: category\n",
       "Categories (2, int64): [0, 1]"
      ]
     },
     "execution_count": 96,
     "metadata": {},
     "output_type": "execute_result"
    }
   ],
   "source": [
    "# Change the data type inorder to plot a boxplot\n",
    "df['premium']=df['is_premium'].astype('category')\n",
    "df['premium']"
   ]
  },
  {
   "cell_type": "markdown",
   "id": "cd7a5144",
   "metadata": {},
   "source": [
    "- Hypothesis: Premium Questions might have a higher frequency thats why they are premium\n",
    "- frequency is a feature which tells us about the how frequently a particular problem is being tested thus more important in interview clearing process"
   ]
  },
  {
   "cell_type": "code",
   "execution_count": 97,
   "id": "1e2ab885",
   "metadata": {},
   "outputs": [
    {
     "data": {
      "image/png": "[encoded data removed]",
      "text/plain": [
       "<Figure size 432x288 with 1 Axes>"
      ]
     },
     "metadata": {
      "needs_background": "light"
     },
     "output_type": "display_data"
    }
   ],
   "source": [
    "ax=sns.boxplot(data=df,x='premium',y='frequency')\n",
    "ax.set_xticklabels(['not_premium','premium'])\n",
    "plt.show()"
   ]
  },
  {
   "cell_type": "markdown",
   "id": "feeea731",
   "metadata": {},
   "source": [
    "My Hypothesis was wrong as evidenced by the boxplot"
   ]
  },
  {
   "cell_type": "markdown",
   "id": "0fad7b8a",
   "metadata": {},
   "source": [
    "### How many questions were asked by FAANG ?\n"
   ]
  },
  {
   "cell_type": "code",
   "execution_count": 98,
   "id": "330d2605",
   "metadata": {},
   "outputs": [
    {
     "name": "stdout",
     "output_type": "stream",
     "text": [
      "Number of questions asked by FAANG:1225\n"
     ]
    },
    {
     "data": {
      "image/png": "[encoded data removed]",
      "text/plain": [
       "<Figure size 432x288 with 1 Axes>"
      ]
     },
     "metadata": {},
     "output_type": "display_data"
    },
    {
     "data": {
      "text/plain": [
       "<Figure size 720x720 with 0 Axes>"
      ]
     },
     "metadata": {},
     "output_type": "display_data"
    }
   ],
   "source": [
    "num=df['asked_by_faang'].sum()\n",
    "print('Number of questions asked by FAANG:{}'.format(num))\n",
    "counts=df['asked_by_faang'].value_counts(normalize=True)\n",
    "label=['FAANG','Not FAANG']\n",
    "explode=[0.1,0]\n",
    "plt.pie(counts,startangle=90,labels=label,shadow=True,explode=explode,autopct='%1.1f%%',textprops={'size':14,'color':'white','weight':'bold'})\n",
    "plt.figure(figsize=(10,10))\n",
    "\n",
    "plt.show()"
   ]
  },
  {
   "cell_type": "markdown",
   "id": "2d44b906",
   "metadata": {},
   "source": [
    "## Questions by difficulty in FAANG"
   ]
  },
  {
   "cell_type": "code",
   "execution_count": 99,
   "id": "cca5cc02",
   "metadata": {},
   "outputs": [
    {
     "data": {
      "image/png": "[encoded data removed]",
      "text/plain": [
       "<Figure size 432x288 with 1 Axes>"
      ]
     },
     "metadata": {
      "needs_background": "light"
     },
     "output_type": "display_data"
    }
   ],
   "source": [
    "ax=df[df['asked_by_faang']==1]['difficulty'].value_counts().plot(kind='bar')\n",
    "for i in ax.containers:\n",
    "    ax.bar_label(i, label_type='edge')\n",
    "# set labels and title\n",
    "plt.xlabel('Difficulty Level')\n",
    "plt.ylabel('Count')\n",
    "plt.title('Difficulty Level Distribution')\n",
    "\n",
    "# show the plot\n",
    "plt.show()    "
   ]
  },
  {
   "cell_type": "markdown",
   "id": "07d13ebb",
   "metadata": {},
   "source": [
    "## Distribution of Acceptance_Rate by difficulty"
   ]
  },
  {
   "cell_type": "markdown",
   "id": "fab360fb",
   "metadata": {},
   "source": [
    "- Hypothesis: Easy questions will have higher acceptance rate than hard questions"
   ]
  },
  {
   "cell_type": "code",
   "execution_count": 100,
   "id": "27277166",
   "metadata": {},
   "outputs": [
    {
     "data": {
      "image/png": "[encoded data removed]",
      "text/plain": [
       "<Figure size 432x288 with 1 Axes>"
      ]
     },
     "metadata": {
      "needs_background": "light"
     },
     "output_type": "display_data"
    }
   ],
   "source": [
    "df_faang=df[df['asked_by_faang']==1]\n",
    "sns.boxplot(data=df_faang,y='difficulty',x='acceptance_rate')\n",
    "plt.show()"
   ]
  },
  {
   "cell_type": "markdown",
   "id": "83464383",
   "metadata": {},
   "source": [
    "- As you can see from the boxplot the median acceptance_rate of hard and easy problems a significant difference"
   ]
  },
  {
   "cell_type": "markdown",
   "id": "e99a4b0d",
   "metadata": {},
   "source": [
    "## Distribution of Likes and Dislikes by Acceptance_Rate"
   ]
  },
  {
   "cell_type": "markdown",
   "id": "9692cf39",
   "metadata": {},
   "source": [
    "- Hypothesis:likes of easier problem should be higher than the likes of harder problem difficulty\n",
    "\n",
    "- Hypothess: Dislikes of hard problems should be higher than the dislikes of easier problems"
   ]
  },
  {
   "cell_type": "code",
   "execution_count": 101,
   "id": "029792f3",
   "metadata": {},
   "outputs": [
    {
     "data": {
      "image/png": "[encoded data removed]",
      "text/plain": [
       "<Figure size 432x288 with 1 Axes>"
      ]
     },
     "metadata": {
      "needs_background": "light"
     },
     "output_type": "display_data"
    },
    {
     "data": {
      "text/plain": [
       "<Figure size 720x1008 with 0 Axes>"
      ]
     },
     "metadata": {},
     "output_type": "display_data"
    }
   ],
   "source": [
    "sns.boxplot(data=df_faang,y='likes',x='difficulty')\n",
    "plt.figure(figsize=(10,14))\n",
    "plt.show()"
   ]
  },
  {
   "cell_type": "code",
   "execution_count": 102,
   "id": "308b0b77",
   "metadata": {},
   "outputs": [
    {
     "data": {
      "text/html": [
       "<div>\n",
       "<style scoped>\n",
       "    .dataframe tbody tr th:only-of-type {\n",
       "        vertical-align: middle;\n",
       "    }\n",
       "\n",
       "    .dataframe tbody tr th {\n",
       "        vertical-align: top;\n",
       "    }\n",
       "\n",
       "    .dataframe thead th {\n",
       "        text-align: right;\n",
       "    }\n",
       "</style>\n",
       "<table border=\"1\" class=\"dataframe\">\n",
       "  <thead>\n",
       "    <tr style=\"text-align: right;\">\n",
       "      <th></th>\n",
       "      <th>likes</th>\n",
       "    </tr>\n",
       "    <tr>\n",
       "      <th>difficulty</th>\n",
       "      <th></th>\n",
       "    </tr>\n",
       "  </thead>\n",
       "  <tbody>\n",
       "    <tr>\n",
       "      <th>Easy</th>\n",
       "      <td>798.5</td>\n",
       "    </tr>\n",
       "    <tr>\n",
       "      <th>Hard</th>\n",
       "      <td>548.0</td>\n",
       "    </tr>\n",
       "    <tr>\n",
       "      <th>Medium</th>\n",
       "      <td>802.5</td>\n",
       "    </tr>\n",
       "  </tbody>\n",
       "</table>\n",
       "</div>"
      ],
      "text/plain": [
       "            likes\n",
       "difficulty       \n",
       "Easy        798.5\n",
       "Hard        548.0\n",
       "Medium      802.5"
      ]
     },
     "execution_count": 102,
     "metadata": {},
     "output_type": "execute_result"
    }
   ],
   "source": [
    "# The table is showing the median values of likes\n",
    "pd.pivot_table(data=df_faang,index='difficulty',values='likes',aggfunc='median')"
   ]
  },
  {
   "cell_type": "markdown",
   "id": "15494429",
   "metadata": {},
   "source": [
    "- My Hypothesis concerniing likes turns out to be true"
   ]
  },
  {
   "cell_type": "code",
   "execution_count": 103,
   "id": "43531e9b",
   "metadata": {},
   "outputs": [
    {
     "data": {
      "image/png": "[encoded data removed]",
      "text/plain": [
       "<Figure size 432x288 with 1 Axes>"
      ]
     },
     "metadata": {
      "needs_background": "light"
     },
     "output_type": "display_data"
    },
    {
     "data": {
      "text/plain": [
       "<Figure size 720x1008 with 0 Axes>"
      ]
     },
     "metadata": {},
     "output_type": "display_data"
    }
   ],
   "source": [
    "sns.boxplot(data=df_faang,y='dislikes',x='difficulty')\n",
    "plt.figure(figsize=(10,14))\n",
    "plt.show()"
   ]
  },
  {
   "cell_type": "code",
   "execution_count": 104,
   "id": "246687da",
   "metadata": {},
   "outputs": [
    {
     "data": {
      "text/html": [
       "<div>\n",
       "<style scoped>\n",
       "    .dataframe tbody tr th:only-of-type {\n",
       "        vertical-align: middle;\n",
       "    }\n",
       "\n",
       "    .dataframe tbody tr th {\n",
       "        vertical-align: top;\n",
       "    }\n",
       "\n",
       "    .dataframe thead th {\n",
       "        text-align: right;\n",
       "    }\n",
       "</style>\n",
       "<table border=\"1\" class=\"dataframe\">\n",
       "  <thead>\n",
       "    <tr style=\"text-align: right;\">\n",
       "      <th></th>\n",
       "      <th>dislikes</th>\n",
       "    </tr>\n",
       "    <tr>\n",
       "      <th>difficulty</th>\n",
       "      <th></th>\n",
       "    </tr>\n",
       "  </thead>\n",
       "  <tbody>\n",
       "    <tr>\n",
       "      <th>Easy</th>\n",
       "      <td>159.5</td>\n",
       "    </tr>\n",
       "    <tr>\n",
       "      <th>Hard</th>\n",
       "      <td>68.0</td>\n",
       "    </tr>\n",
       "    <tr>\n",
       "      <th>Medium</th>\n",
       "      <td>118.5</td>\n",
       "    </tr>\n",
       "  </tbody>\n",
       "</table>\n",
       "</div>"
      ],
      "text/plain": [
       "            dislikes\n",
       "difficulty          \n",
       "Easy           159.5\n",
       "Hard            68.0\n",
       "Medium         118.5"
      ]
     },
     "execution_count": 104,
     "metadata": {},
     "output_type": "execute_result"
    }
   ],
   "source": [
    "# The table is showing the median values of dislikes\n",
    "pd.pivot_table(data=df_faang,index='difficulty',values='dislikes',aggfunc='median')"
   ]
  },
  {
   "cell_type": "markdown",
   "id": "894851c6",
   "metadata": {},
   "source": [
    "- My Hypothesis is dead wrong, it turns out harder problems have less dislikes than easier problems"
   ]
  },
  {
   "cell_type": "markdown",
   "id": "e888b996",
   "metadata": {},
   "source": [
    "- Another interesting insight is The number of likes:2149 and dislikes:346\n",
    "- About 6 times people were more likely to Rate a like rather than a dislike"
   ]
  },
  {
   "cell_type": "markdown",
   "id": "f3982b9d",
   "metadata": {},
   "source": [
    "'rating' Feature of the Dataset\n",
    "- Users can rate the problems after they have solved them, and the ratings are used to provide feedback to the LeetCode team on the quality and difficulty level of the problems.\n",
    "- Hypothesis: Sice there is a certain problem that I dislike,it's quite probable I will not give a High Rating thus there should be some neagtive correlation of 'dislikes' and 'rating'\n",
    "- Hypothesis:And a positive correlation between 'likes' and 'rating "
   ]
  },
  {
   "cell_type": "code",
   "execution_count": 105,
   "id": "25d70eb2",
   "metadata": {},
   "outputs": [
    {
     "data": {
      "text/html": [
       "<div>\n",
       "<style scoped>\n",
       "    .dataframe tbody tr th:only-of-type {\n",
       "        vertical-align: middle;\n",
       "    }\n",
       "\n",
       "    .dataframe tbody tr th {\n",
       "        vertical-align: top;\n",
       "    }\n",
       "\n",
       "    .dataframe thead th {\n",
       "        text-align: right;\n",
       "    }\n",
       "</style>\n",
       "<table border=\"1\" class=\"dataframe\">\n",
       "  <thead>\n",
       "    <tr style=\"text-align: right;\">\n",
       "      <th></th>\n",
       "      <th>likes</th>\n",
       "      <th>dislikes</th>\n",
       "      <th>rating</th>\n",
       "    </tr>\n",
       "  </thead>\n",
       "  <tbody>\n",
       "    <tr>\n",
       "      <th>likes</th>\n",
       "      <td>1.000000</td>\n",
       "      <td>0.152527</td>\n",
       "      <td>0.294859</td>\n",
       "    </tr>\n",
       "    <tr>\n",
       "      <th>dislikes</th>\n",
       "      <td>0.152527</td>\n",
       "      <td>1.000000</td>\n",
       "      <td>-0.562773</td>\n",
       "    </tr>\n",
       "    <tr>\n",
       "      <th>rating</th>\n",
       "      <td>0.294859</td>\n",
       "      <td>-0.562773</td>\n",
       "      <td>1.000000</td>\n",
       "    </tr>\n",
       "  </tbody>\n",
       "</table>\n",
       "</div>"
      ],
      "text/plain": [
       "             likes  dislikes    rating\n",
       "likes     1.000000  0.152527  0.294859\n",
       "dislikes  0.152527  1.000000 -0.562773\n",
       "rating    0.294859 -0.562773  1.000000"
      ]
     },
     "execution_count": 105,
     "metadata": {},
     "output_type": "execute_result"
    }
   ],
   "source": [
    "df_faang[['likes','dislikes','rating']].corr()"
   ]
  },
  {
   "cell_type": "markdown",
   "id": "f749dc10",
   "metadata": {},
   "source": [
    "- My hypothesis is correct"
   ]
  },
  {
   "cell_type": "code",
   "execution_count": 106,
   "id": "5e9e5305",
   "metadata": {},
   "outputs": [
    {
     "data": {
      "text/html": [
       "<div>\n",
       "<style scoped>\n",
       "    .dataframe tbody tr th:only-of-type {\n",
       "        vertical-align: middle;\n",
       "    }\n",
       "\n",
       "    .dataframe tbody tr th {\n",
       "        vertical-align: top;\n",
       "    }\n",
       "\n",
       "    .dataframe thead th {\n",
       "        text-align: right;\n",
       "    }\n",
       "</style>\n",
       "<table border=\"1\" class=\"dataframe\">\n",
       "  <thead>\n",
       "    <tr style=\"text-align: right;\">\n",
       "      <th></th>\n",
       "      <th>likes</th>\n",
       "      <th>dislikes</th>\n",
       "      <th>acceptance_rate</th>\n",
       "    </tr>\n",
       "  </thead>\n",
       "  <tbody>\n",
       "    <tr>\n",
       "      <th>likes</th>\n",
       "      <td>1.000000</td>\n",
       "      <td>0.152527</td>\n",
       "      <td>-0.163426</td>\n",
       "    </tr>\n",
       "    <tr>\n",
       "      <th>dislikes</th>\n",
       "      <td>0.152527</td>\n",
       "      <td>1.000000</td>\n",
       "      <td>-0.234282</td>\n",
       "    </tr>\n",
       "    <tr>\n",
       "      <th>acceptance_rate</th>\n",
       "      <td>-0.163426</td>\n",
       "      <td>-0.234282</td>\n",
       "      <td>1.000000</td>\n",
       "    </tr>\n",
       "  </tbody>\n",
       "</table>\n",
       "</div>"
      ],
      "text/plain": [
       "                    likes  dislikes  acceptance_rate\n",
       "likes            1.000000  0.152527        -0.163426\n",
       "dislikes         0.152527  1.000000        -0.234282\n",
       "acceptance_rate -0.163426 -0.234282         1.000000"
      ]
     },
     "execution_count": 106,
     "metadata": {},
     "output_type": "execute_result"
    }
   ],
   "source": [
    "df_faang[['likes','dislikes','acceptance_rate']].corr()"
   ]
  },
  {
   "cell_type": "markdown",
   "id": "8e38da33",
   "metadata": {},
   "source": [
    "# Distribution of Frequency FAANG vs Non_FAANG"
   ]
  },
  {
   "cell_type": "markdown",
   "id": "bad263a3",
   "metadata": {},
   "source": [
    "- Hypthesis:Faang questions have a higher frequency"
   ]
  },
  {
   "cell_type": "code",
   "execution_count": 107,
   "id": "8d7d8f3e",
   "metadata": {},
   "outputs": [
    {
     "data": {
      "image/png": "[encoded data removed]",
      "text/plain": [
       "<Figure size 720x288 with 2 Axes>"
      ]
     },
     "metadata": {
      "needs_background": "light"
     },
     "output_type": "display_data"
    }
   ],
   "source": [
    "non_faang=df[df['asked_by_faang']==0]\n",
    "fig,ax=plt.subplots(1,2,figsize=(10,4))\n",
    "ax[0].hist(df_faang['frequency'],bins=10)\n",
    "ax[0].set_title('Distribution of Faang frequency')\n",
    "ax[0].set_xlabel('frequency')\n",
    "ax[1].hist(non_faang['frequency'],bins=10)\n",
    "ax[1].set_title('Distribution of Non_Faang frequency')\n",
    "ax[1].set_xlabel('frequency')\n",
    "plt.show()"
   ]
  },
  {
   "cell_type": "markdown",
   "id": "50a287ed",
   "metadata": {},
   "source": [
    "- Hypothesis is wrong as distributions are very similiar"
   ]
  },
  {
   "cell_type": "markdown",
   "id": "96320125",
   "metadata": {},
   "source": [
    "# Discuss_count vs difficulty"
   ]
  },
  {
   "cell_type": "markdown",
   "id": "ac017c27",
   "metadata": {},
   "source": [
    "- Hypothesis:Discuss_count of medium questions would be the highest as the interviews usually have medium questions and acing them is a good KPI for will you pass the round or not"
   ]
  },
  {
   "cell_type": "code",
   "execution_count": 108,
   "id": "db43a838",
   "metadata": {},
   "outputs": [
    {
     "data": {
      "text/plain": [
       "<AxesSubplot:xlabel='difficulty', ylabel='discuss_count'>"
      ]
     },
     "execution_count": 108,
     "metadata": {},
     "output_type": "execute_result"
    },
    {
     "data": {
      "image/png": "[encoded data removed]",
      "text/plain": [
       "<Figure size 432x288 with 1 Axes>"
      ]
     },
     "metadata": {
      "needs_background": "light"
     },
     "output_type": "display_data"
    }
   ],
   "source": [
    "sns.boxplot(data=df_faang,x='difficulty',y='discuss_count')"
   ]
  },
  {
   "cell_type": "markdown",
   "id": "6858b548",
   "metadata": {},
   "source": [
    "- My hypothesis was wrong. It's the easy problem type that is discussed more"
   ]
  },
  {
   "cell_type": "markdown",
   "id": "d24a63b4",
   "metadata": {},
   "source": [
    "# Top 5 Companies Problems by count"
   ]
  },
  {
   "cell_type": "code",
   "execution_count": 112,
   "id": "d2482af5",
   "metadata": {},
   "outputs": [
    {
     "name": "stdout",
     "output_type": "stream",
     "text": [
      "{'Amazon': 690, 'Google': 553, 'Apple': 211, 'Adobe': 119, 'Microsoft': 355, 'Bloomberg': 220, 'Facebook': 411, 'Oracle': 113, 'Uber': 112, 'Expedia': 27, 'Twitter': 43, 'Nagarro': 2, 'SAP': 8, 'Yahoo': 21, 'Cisco': 23, 'Qualcomm': 10, 'tcs': 6, 'Goldman Sachs': 70, 'Yandex': 25, 'ServiceNow': 6, 'Paypal': 26, 'Coupang': 7, 'VMware': 23, 'eBay': 53, 'Alation': 1, 'ByteDance': 107, 'Salesforce': 17, 'Splunk': 6, 'Spotify': 9, 'Zillow': 11, 'Flipkart': 12, 'Wayfair': 13, 'American Express': 5, 'Intel': 5, 'Coursera': 2, 'Roblox': 21, 'LinkedIn': 68, 'Qualtrics': 22, 'Tesla': 13, 'Twilio': 8, 'Capital One': 13, 'JPMorgan': 18, 'Morgan Stanley': 6, 'Samsung': 10, 'IBM': 12, 'Intuit': 18, 'Atlassian': 8, 'Walmart Labs': 19, 'Nvidia': 13, 'Databricks': 8, 'Wish': 14, 'Palantir Technologies': 8, 'Rubrik': 8, 'C3 IoT': 6, 'Snapchat': 23, 'DoorDash': 17, 'Pinterest': 11, 'Epic Systems': 3, 'Airbnb': 17, 'Citadel': 16, 'Square': 11, 'Two Sigma': 8, 'Quora': 8, 'PayTM': 2, 'Affirm': 3, 'Docusign': 4, 'Zenefits': 1, 'Twitch': 7, 'Karat': 7, 'Indeed': 8, 'Reddit': 3, 'Netflix': 3, 'Lyft': 12, 'MAQ Software': 2, '0': 76, 'Mathworks': 6, 'Visa': 6, 'Box': 5, 'Hotstar': 2, 'Citrix': 11, 'Dropbox': 10, 'Akuna Capital': 11, 'GoDaddy': 1, 'Infosys': 5, 'Barclays': 1, 'Robinhood': 8, 'Asana': 2, 'Arista Networks': 1, 'Opendoor': 2, 'Codenation': 8, 'BlackRock': 2, 'Blizzard': 1, 'Yelp': 8, 'Nutanix': 6, 'HRT': 5, 'Pony.ai': 2, 'Hulu': 2, 'Redfin': 1, 'Swiggy': 6, 'Cloudera': 2, 'Leap Motion': 1, 'Garena': 2, 'GSN Games': 5, 'DE Shaw': 3, 'LiveRamp': 3, 'Audible': 4, 'Alibaba': 1, 'Sumologic': 4, 'Netsuite': 1, 'IXL': 3, 'Pure Storage': 2, 'Pocket Gems': 1, 'Airtel': 1, 'Gilt Groupe': 1, 'Tencent': 1, 'Works Applications': 1, 'Valve': 1, 'Houzz': 2, 'NetEase': 1, 'TripleByte': 1, 'Accolite': 2, 'InMobi': 1, 'Jane Street': 1, 'National Instruments': 1, 'Sapient': 1, 'Akamai': 2, 'Dunzo': 7, 'Thumbtack': 1, 'Grab': 6, 'Zalando': 1, 'HBO': 1, 'Booking': 1, 'Booking.com': 1, 'UiPath': 1, 'FactSet': 1, 'Bloomreach': 1, 'Zoom': 3, 'ZScaler': 1, 'Poshmark': 2, 'Virtu Financial': 5, 'Clutter': 1, 'United Health Group': 2, 'Postmates': 3, 'Traveloka': 1, 'Kakao': 1, 'Media.net': 2, 'Microstrategy': 1, 'Walmart': 1, 'DiDi': 1, 'Delivery Hero': 1, 'Point72': 4, 'Machine Zone': 1, 'MachineZone': 1, 'Sumerge': 1, 'Mercari': 4, 'OT': 1, 'TripAdvisor': 1, 'JP Morgan': 2, 'C3.ai': 1, 'DRW': 1, 'endurance': 1, 'MindTickle': 2, 'Startup': 2, 'Dream11': 1, 'Nuro': 1, 'Directi': 5, 'Toptal': 1, 'Turvo': 1, 'Ajira': 1, 'Rupeek': 1, 'DJI': 1, 'Brillio': 1, 'Optum': 1, 'Whole Foods Market': 1, 'Arcesium': 1, 'Unacademy': 1, 'TSYS': 1, 'NerdWallet': 1, 'peak6': 2, 'Trexquant': 1, 'HeavyWater': 1, 'Lendingkart': 1, 'CureFit': 1, 'APT Portfolio': 1, 'Activision': 1, 'Cashfree': 1, 'Huwaei': 1, 'Huawei': 1, 'MakeMyTrip': 1, 'Sprinklr': 3, 'edabit': 1, 'AllinCall': 1, 'CoderByte': 1, 'Duolingo': 1, 'AppDynamics': 1, 'Lucid': 1, 'Fleetx': 1, 'SoundHound': 1, 'codeagon': 1, 'Softwire': 1, 'Vimeo': 1}\n"
     ]
    }
   ],
   "source": [
    "count_of_companies={}\n",
    "for companies in df['companies']:\n",
    "    for company in companies.split(','):\n",
    "        if company not in count_of_companies:\n",
    "            count_of_companies[company]=1\n",
    "        else:\n",
    "            count_of_companies[company]+=1\n",
    "print(count_of_companies)            "
   ]
  },
  {
   "cell_type": "code",
   "execution_count": 117,
   "id": "c70ee95f",
   "metadata": {},
   "outputs": [],
   "source": [
    "top_5_name=[]\n",
    "top_5_cnt=[]\n",
    "for company_name,cnt in sorted(count_of_companies.items(),key=lambda x:x[1],reverse=True):\n",
    "     top_5_name.append(company_name)\n",
    "     top_5_cnt.append(cnt)"
   ]
  },
  {
   "cell_type": "code",
   "execution_count": 120,
   "id": "f1636eca",
   "metadata": {},
   "outputs": [
    {
     "data": {
      "text/plain": [
       "['Amazon', 'Google', 'Facebook', 'Microsoft', 'Bloomberg']"
      ]
     },
     "execution_count": 120,
     "metadata": {},
     "output_type": "execute_result"
    }
   ],
   "source": [
    "top_5_name=top_5_name[:5]\n",
    "top_5_cnt=top_5_cnt[:5]\n",
    "top_5_name"
   ]
  },
  {
   "cell_type": "code",
   "execution_count": 122,
   "id": "ea9b10d1",
   "metadata": {},
   "outputs": [
    {
     "data": {
      "image/png": "[encoded data removed]",
      "text/plain": [
       "<Figure size 432x288 with 1 Axes>"
      ]
     },
     "metadata": {
      "needs_background": "light"
     },
     "output_type": "display_data"
    }
   ],
   "source": [
    "plt.bar(top_5_name,top_5_cnt)\n",
    "plt.title('Top 5 Companies')\n",
    "plt.xticks(rotation=45)\n",
    "plt.show()"
   ]
  },
  {
   "cell_type": "markdown",
   "id": "6c58657f",
   "metadata": {},
   "source": [
    "# Questions are related to which topics"
   ]
  },
  {
   "cell_type": "code",
   "execution_count": 125,
   "id": "56a34143",
   "metadata": {},
   "outputs": [
    {
     "name": "stdout",
     "output_type": "stream",
     "text": [
      "How many different topics:44\n"
     ]
    }
   ],
   "source": [
    "que={}\n",
    "for categories in df['related_topics']:\n",
    "    for topic in categories.split(','):\n",
    "        if topic not in que:\n",
    "            que[topic]=1\n",
    "        else:\n",
    "            que[topic]+=1\n",
    "\n",
    "            \n",
    "print('How many different topics:{}'.format(len(que)))            "
   ]
  },
  {
   "cell_type": "code",
   "execution_count": 127,
   "id": "80ff5822",
   "metadata": {},
   "outputs": [
    {
     "data": {
      "text/plain": [
       "[305, 254, 248, 221, 192, 156, 155, 149, 144, 102]"
      ]
     },
     "execution_count": 127,
     "metadata": {},
     "output_type": "execute_result"
    }
   ],
   "source": [
    "top_10_topics=[]\n",
    "top_10_val=[]\n",
    "for topic,val in sorted(que.items(),key=lambda x:x[1],reverse=True):\n",
    "    top_10_topics.append(topic)\n",
    "    top_10_val.append(val)\n",
    "top_10_topics=top_10_topics[:10]\n",
    "top_10_val=top_10_val[:10]\n",
    "top_10_val"
   ]
  },
  {
   "cell_type": "code",
   "execution_count": 129,
   "id": "63804926",
   "metadata": {},
   "outputs": [
    {
     "data": {
      "image/png": "[encoded data removed]",
      "text/plain": [
       "<Figure size 432x288 with 1 Axes>"
      ]
     },
     "metadata": {
      "needs_background": "light"
     },
     "output_type": "display_data"
    }
   ],
   "source": [
    "plt.bar(top_10_topics,top_10_val)\n",
    "plt.title('Top 10 Topics')\n",
    "plt.xticks(rotation=90)\n",
    "plt.show()"
   ]
  },
  {
   "cell_type": "markdown",
   "id": "c1684fa4",
   "metadata": {},
   "source": [
    "- Hypothesis:Hard probelms would have different topics than easy problem types"
   ]
  },
  {
   "cell_type": "code",
   "execution_count": 144,
   "id": "78faa6a3",
   "metadata": {},
   "outputs": [
    {
     "name": "stdout",
     "output_type": "stream",
     "text": [
      "[('Dynamic Programming', 123), ('Math', 49), ('String', 38), ('0', 37), ('Binary Search', 32)]\n"
     ]
    }
   ],
   "source": [
    "df_hard=df[df['difficulty']=='Hard']\n",
    "ques={}\n",
    "for categories in df_hard['related_topics']:\n",
    "    for topic in categories.split(','):\n",
    "        if topic not in ques:\n",
    "            ques[topic]=1\n",
    "        else:\n",
    "            ques[topic]+=1\n",
    "y=sorted(ques.items(),key=lambda x:x[1],reverse=True)[:5]\n",
    "print(y)"
   ]
  },
  {
   "cell_type": "code",
   "execution_count": 142,
   "id": "ff3a89af",
   "metadata": {},
   "outputs": [
    {
     "name": "stdout",
     "output_type": "stream",
     "text": [
      "[('Array', 122), ('0', 112), ('String', 74), ('Math', 52), ('Hash Table', 49)]\n"
     ]
    }
   ],
   "source": [
    "df_easy=df[df['difficulty']=='Easy']\n",
    "quest={}\n",
    "for categories in df_hard['related_topics']:\n",
    "    for topic in categories.split(','):\n",
    "        if topic not in quest:\n",
    "            quest[topic]=1\n",
    "        else:\n",
    "            quest[topic]+=1\n",
    "x=sorted(quest.items(),key=lambda x:x[1],reverse=True)[:5]\n",
    "print(x)"
   ]
  },
  {
   "cell_type": "markdown",
   "id": "fda1a208",
   "metadata": {},
   "source": [
    "- Array seems to be like an easy topic\n",
    "- Dynamic programming seems to be a complex concept"
   ]
  }
 ],
 "metadata": {
  "kernelspec": {
   "display_name": "Python 3 (ipykernel)",
   "language": "python",
   "name": "python3"
  },
  "language_info": {
   "codemirror_mode": {
    "name": "ipython",
    "version": 3
   },
   "file_extension": ".py",
   "mimetype": "text/x-python",
   "name": "python",
   "nbconvert_exporter": "python",
   "pygments_lexer": "ipython3",
   "version": "3.9.12"
  }
 },
 "nbformat": 4,
 "nbformat_minor": 5
}
